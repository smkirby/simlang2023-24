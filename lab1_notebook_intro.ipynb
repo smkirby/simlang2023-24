{
 "cells": [
  {
   "cell_type": "markdown",
   "metadata": {},
   "source": [
    "# What is Jupyter notebook?"
   ]
  },
  {
   "cell_type": "markdown",
   "metadata": {},
   "source": [
    "*This document is based on a notebook intro written by [Yasamin Motamedi](http://www.ucl.ac.uk/pals/people/profiles/research-staff/yasamin-motamedi-mousavi) - thanks Yasamin. In case it's not obvious, the references to popular culture are hers, and already look quite dated - such are the dangers of acknowledging the zeitgeist.*"
   ]
  },
  {
   "cell_type": "markdown",
   "metadata": {},
   "source": [
    "Jupyter notebook is an open-source web app to create documents that integrate text, live code, images, video, and equations."
   ]
  },
  {
   "cell_type": "markdown",
   "metadata": {},
   "source": [
    "The notebooks can run code kernels in different programming languages. For example, this notebook is running a Python kernel which is what we're using in this course. But R notebooks, for example, will run the code cells with R."
   ]
  },
  {
   "cell_type": "markdown",
   "metadata": {},
   "source": [
    "# How does it work?"
   ]
  },
  {
   "cell_type": "markdown",
   "metadata": {},
   "source": [
    "The notebooks have different kinds of cells, including code, markdown and raw cells. We'll focus on mardown cells and code cells."
   ]
  },
  {
   "cell_type": "markdown",
   "metadata": {},
   "source": [
    "Markdown cells display text that can be formatted in various ways. All the text you are currently reading has been inputted into markdown cells"
   ]
  },
  {
   "cell_type": "markdown",
   "metadata": {},
   "source": [
    "Code cells run code and print the output below the cell"
   ]
  },
  {
   "cell_type": "markdown",
   "metadata": {},
   "source": [
    "I give examples of these below and how you can use them. "
   ]
  },
  {
   "cell_type": "markdown",
   "metadata": {},
   "source": [
    "## Markdown cells"
   ]
  },
  {
   "cell_type": "markdown",
   "metadata": {},
   "source": [
    "### Basic formatting"
   ]
  },
  {
   "cell_type": "markdown",
   "metadata": {},
   "source": [
    "Markdown allows you to produce lightly formatted text with simple commands. For the most part these commands are the same across platforms. If you double-click on this cell, or click on it then press enter, you can see the markdown text that produced this cell - it looks just like normal text, but in the next few cells we'll show you some slightly fancier formatting using markdown. Once you have had a look at the contents of this cell, press CTRL + ENTER or SHIFT + ENTER to run the cell - that will hide the markdown contents and show you the nicely formatted cell."
   ]
  },
  {
   "cell_type": "markdown",
   "metadata": {},
   "source": [
    "Markdown allows you to format headings on 6 levels:\n",
    "\n",
    "# Here is a heading\n",
    "## Here is a smaller heading\n",
    "### And one that's even a little bit smaller\n",
    "#### And even smaller\n",
    "##### Ok, this is just the same size but italicised\n",
    "###### Can you tell a difference anymore?\n",
    "\n",
    "Again, have a look at the contents of this cell (select it and click, or select and press ENTER) to see how these different headings are generated in markdown. Then press SHIFT + ENTER to run the cell and see the nicely-formatted text."
   ]
  },
  {
   "cell_type": "markdown",
   "metadata": {},
   "source": [
    "You can add emphasis, in italics or bold, using \\* or \\_ \n",
    "\n",
    "Use single asterisk or underscore for *writing* _italics_"
   ]
  },
  {
   "cell_type": "markdown",
   "metadata": {},
   "source": [
    "Use doubles for **writing** __in bold__"
   ]
  },
  {
   "cell_type": "markdown",
   "metadata": {},
   "source": [
    "Mix and match \\* and \\_ for both **_italics_** and *__bold__*"
   ]
  },
  {
   "cell_type": "markdown",
   "metadata": {},
   "source": [
    "You can even use strikethrough, using double ~~tuldes~~ ~~taldes~~ tildes"
   ]
  },
  {
   "cell_type": "markdown",
   "metadata": {},
   "source": [
    "### Lists"
   ]
  },
  {
   "cell_type": "markdown",
   "metadata": {},
   "source": [
    "1. You can\n",
    "2. Use\n",
    "3. Numbered \n",
    "4. Lists"
   ]
  },
  {
   "cell_type": "markdown",
   "metadata": {},
   "source": [
    "* or\n",
    "* just\n",
    "* bullet points"
   ]
  },
  {
   "cell_type": "markdown",
   "metadata": {},
   "source": [
    "### Links, images and other output"
   ]
  },
  {
   "cell_type": "markdown",
   "metadata": {},
   "source": [
    "Add links:"
   ]
  },
  {
   "cell_type": "markdown",
   "metadata": {},
   "source": [
    "[The best of the internet](http://badkidsjokes.tumblr.com/)"
   ]
  },
  {
   "cell_type": "markdown",
   "metadata": {},
   "source": [
    "Add images:"
   ]
  },
  {
   "cell_type": "markdown",
   "metadata": {},
   "source": [
    "![doh](http://cdn.cnn.com/cnnnext/dam/assets/170821152317-donald-trump-squint-point-eclipse-large-169.jpg)"
   ]
  },
  {
   "cell_type": "markdown",
   "metadata": {},
   "source": [
    "Which also works for awesome animated gifs:"
   ]
  },
  {
   "cell_type": "markdown",
   "metadata": {},
   "source": [
    "![OMG](https://media.giphy.com/media/l3fQjHugtGrGhHs5y/200.gif)"
   ]
  },
  {
   "cell_type": "markdown",
   "metadata": {},
   "source": [
    "You'll also see shortly how to add graphs from simulation code, which will be very useful."
   ]
  },
  {
   "cell_type": "markdown",
   "metadata": {},
   "source": [
    "### Code reproductions"
   ]
  },
  {
   "cell_type": "markdown",
   "metadata": {},
   "source": [
    "Another useful tool with markdown (e.g. for teaching, demonstrating, sharing work) is that you can reproduce code snippets with the syntax of that language."
   ]
  },
  {
   "cell_type": "markdown",
   "metadata": {},
   "source": [
    "e.g. **Python**\n",
    "\n",
    "```python\n",
    "\n",
    "txt = 'This will reproduce with python syntax highlighting'\n",
    "print(txt)\n",
    "\n",
    "```"
   ]
  },
  {
   "cell_type": "markdown",
   "metadata": {},
   "source": [
    "## Code cells"
   ]
  },
  {
   "cell_type": "markdown",
   "metadata": {},
   "source": [
    "There is much more on code cells in the introduction to python worksheet, but very briefly..."
   ]
  },
  {
   "cell_type": "markdown",
   "metadata": {},
   "source": [
    "You can run python code in a code cell. Run the code cell below in the usual way (select it, hit SHIFT + ENTER), and gasp in amazement as python calculates the result of 2+2 for you. The next worksheet introduces you to Python properly, so we'll see much more on code cells then (and use Python to solve more interesting problems)."
   ]
  },
  {
   "cell_type": "code",
   "execution_count": null,
   "metadata": {},
   "outputs": [],
   "source": [
    "2 + 2"
   ]
  },
  {
   "cell_type": "markdown",
   "metadata": {},
   "source": [
    "## Final notes and additional resources for notebooks"
   ]
  },
  {
   "cell_type": "markdown",
   "metadata": {},
   "source": [
    "As we work through the notebooks you'll get the hang of running cells, copying and pasting cells, adding cells of your own etc. Don't panic, it's not hard, we'll help you figure it out.\n",
    "\n",
    "You may have noticed that the notebook has two modes - one for navigating between cells, and another mode for editing cells. The former is called *command mode* - when in command mode, if you click on a cell once you'll see that the cell gets a blue outline (on the left). When you're in command mode you cannot edit the text inside the cell, but you can do things like move up or down through the cells using the up and down arrow keys, delete a cell or add a new cell below or above. You get into \"edit mode\" when you double click on a cell, or when you select it and then press enter, in which case the cell gets a green outline. Now you're 'inside' the cell, which allows you to edit the text or Python code inside. Press SHIFT + ENTER to 'execute' (i.e. run) the cell and switch back to command mode. Alternatively, you can jump back out into command mode without executing the cell by pressing the ESC key.\n",
    "\n",
    "There are a bunch of keyboard shortcuts to speed up the process of adding cells etc. There are keyboard shortcuts that will only work if you're in command mode (e.g. press b to add a new cell below the cell that is highlighted), and others that will only work if you're in edit mode (e.g. CMD + / to add a comment). You'll find using keyboard shortcuts is very handy when you're working inside a notebook. Find out more about the keyboard shortcuts by going to Help --> Keyboard Shortcuts, or by pressing H when in command mode (ESC + H if you are in edit mode). \n"
   ]
  },
  {
   "cell_type": "markdown",
   "metadata": {},
   "source": [
    "For more ways to use markdown, check out this [markdown cheat sheet](https://github.com/adam-p/markdown-here/wiki/Markdown-Cheatsheet).\n",
    "\n",
    "For those of your more familiar with markdown or who are feeling adventurous, feel free to explore some more ways of using python notebooks.\n",
    "\n",
    "Jupyter have compiled a [gallery of interesting Jupyter notebooks](https://github.com/jupyter/jupyter/wiki/A-gallery-of-interesting-Jupyter-Notebooks#introductory-tutorials), which cover a wide range of topics. \n",
    "\n",
    "Somewhere amongst those are a set of [IPython specific notebooks](https://nbviewer.jupyter.org/github/ipython/ipython/blob/master/examples/IPython%20Kernel/Index.ipynb), that cover some useful things like cell magics, and plotting in the notebook.\n",
    "\n",
    "Or check out this [list of tips for using IPython notebooks](https://www.dataquest.io/blog/jupyter-notebook-tips-tricks-shortcuts/).\n",
    "\n",
    "Or search for the notebooks that would interest you - there are hundreds of tutorials and examples online."
   ]
  },
  {
   "cell_type": "markdown",
   "metadata": {},
   "source": [
    "##### And have fun! \n",
    "\n",
    "![FUN!](http://bestanimations.com/Music/Dancers/funny-dance/funny-dance-dancing-animated-gif-image-15.gif)"
   ]
  }
 ],
 "metadata": {
  "anaconda-cloud": {},
  "kernelspec": {
   "display_name": "Python 3",
   "language": "python",
   "name": "python3"
  },
  "language_info": {
   "codemirror_mode": {
    "name": "ipython",
    "version": 3
   },
   "file_extension": ".py",
   "mimetype": "text/x-python",
   "name": "python",
   "nbconvert_exporter": "python",
   "pygments_lexer": "ipython3",
   "version": "3.7.3"
  }
 },
 "nbformat": 4,
 "nbformat_minor": 1
}
